{
 "cells": [
  {
   "cell_type": "markdown",
   "metadata": {},
   "source": [
    "# Fraud Discovery data"
   ]
  },
  {
   "cell_type": "code",
   "execution_count": 60,
   "metadata": {
    "collapsed": true
   },
   "outputs": [],
   "source": [
    "import pandas as pd\n",
    "import numpy as np\n",
    "import matplotlib.pyplot as plt\n",
    "import seaborn as sns\n",
    "from IPython.display import display\n",
    "%matplotlib inline\n",
    "plt.style.use('ggplot')\n"
   ]
  },
  {
   "cell_type": "code",
   "execution_count": 67,
   "metadata": {
    "collapsed": false
   },
   "outputs": [
    {
     "data": {
      "text/html": [
       "<div>\n",
       "<table border=\"1\" class=\"dataframe\">\n",
       "  <thead>\n",
       "    <tr style=\"text-align: right;\">\n",
       "      <th></th>\n",
       "      <th>Fraud Instance</th>\n",
       "      <th>Damaged Item</th>\n",
       "      <th>Item Not Avaiable</th>\n",
       "      <th>Item Not In Stock</th>\n",
       "      <th>Product Care Plan</th>\n",
       "      <th>Claim Amount</th>\n",
       "      <th>Registered Online</th>\n",
       "      <th>Age Group</th>\n",
       "      <th>Marital Status</th>\n",
       "      <th>Owns a Vehicle</th>\n",
       "      <th>Accomodation Type</th>\n",
       "      <th>Height (cms)</th>\n",
       "    </tr>\n",
       "  </thead>\n",
       "  <tbody>\n",
       "    <tr>\n",
       "      <th>0</th>\n",
       "      <td>0</td>\n",
       "      <td>1</td>\n",
       "      <td>0</td>\n",
       "      <td>1</td>\n",
       "      <td>0</td>\n",
       "      <td>89</td>\n",
       "      <td>1</td>\n",
       "      <td>29</td>\n",
       "      <td>In-Relationship</td>\n",
       "      <td>1</td>\n",
       "      <td>Owns a house</td>\n",
       "      <td>155</td>\n",
       "    </tr>\n",
       "    <tr>\n",
       "      <th>1</th>\n",
       "      <td>0</td>\n",
       "      <td>0</td>\n",
       "      <td>0</td>\n",
       "      <td>1</td>\n",
       "      <td>1</td>\n",
       "      <td>290</td>\n",
       "      <td>0</td>\n",
       "      <td>33</td>\n",
       "      <td>Married</td>\n",
       "      <td>1</td>\n",
       "      <td>Staying with Family</td>\n",
       "      <td>178</td>\n",
       "    </tr>\n",
       "    <tr>\n",
       "      <th>2</th>\n",
       "      <td>0</td>\n",
       "      <td>1</td>\n",
       "      <td>0</td>\n",
       "      <td>0</td>\n",
       "      <td>1</td>\n",
       "      <td>67</td>\n",
       "      <td>0</td>\n",
       "      <td>39</td>\n",
       "      <td>Married</td>\n",
       "      <td>1</td>\n",
       "      <td>Staying with Family</td>\n",
       "      <td>156</td>\n",
       "    </tr>\n",
       "    <tr>\n",
       "      <th>3</th>\n",
       "      <td>1</td>\n",
       "      <td>0</td>\n",
       "      <td>0</td>\n",
       "      <td>1</td>\n",
       "      <td>0</td>\n",
       "      <td>350</td>\n",
       "      <td>0</td>\n",
       "      <td>49</td>\n",
       "      <td>In-Relationship</td>\n",
       "      <td>1</td>\n",
       "      <td>Rented</td>\n",
       "      <td>187</td>\n",
       "    </tr>\n",
       "    <tr>\n",
       "      <th>4</th>\n",
       "      <td>0</td>\n",
       "      <td>1</td>\n",
       "      <td>0</td>\n",
       "      <td>0</td>\n",
       "      <td>1</td>\n",
       "      <td>297</td>\n",
       "      <td>0</td>\n",
       "      <td>37</td>\n",
       "      <td>In-Relationship</td>\n",
       "      <td>1</td>\n",
       "      <td>Staying with Family</td>\n",
       "      <td>184</td>\n",
       "    </tr>\n",
       "  </tbody>\n",
       "</table>\n",
       "</div>"
      ],
      "text/plain": [
       "   Fraud Instance  Damaged Item  Item Not Avaiable  Item Not In Stock  \\\n",
       "0               0             1                  0                  1   \n",
       "1               0             0                  0                  1   \n",
       "2               0             1                  0                  0   \n",
       "3               1             0                  0                  1   \n",
       "4               0             1                  0                  0   \n",
       "\n",
       "   Product Care Plan  Claim Amount  Registered Online  Age Group  \\\n",
       "0                  0            89                  1         29   \n",
       "1                  1           290                  0         33   \n",
       "2                  1            67                  0         39   \n",
       "3                  0           350                  0         49   \n",
       "4                  1           297                  0         37   \n",
       "\n",
       "    Marital Status  Owns a Vehicle    Accomodation Type  Height (cms)  \n",
       "0  In-Relationship               1         Owns a house           155  \n",
       "1          Married               1  Staying with Family           178  \n",
       "2          Married               1  Staying with Family           156  \n",
       "3  In-Relationship               1               Rented           187  \n",
       "4  In-Relationship               1  Staying with Family           184  "
      ]
     },
     "execution_count": 67,
     "metadata": {},
     "output_type": "execute_result"
    }
   ],
   "source": [
    "data = pd.read_csv('Fraud_Data.csv')\n",
    "data.drop(['#'],inplace=True,axis=1)\n",
    "\n",
    "data['Claim Amount']=data['Claim Amount'].str.replace('$','')\n",
    "data['Claim Amount']=data['Claim Amount'].apply(pd.to_numeric)\n",
    "data.head()"
   ]
  },
  {
   "cell_type": "code",
   "execution_count": 68,
   "metadata": {
    "collapsed": false
   },
   "outputs": [
    {
     "data": {
      "text/html": [
       "<div>\n",
       "<table border=\"1\" class=\"dataframe\">\n",
       "  <thead>\n",
       "    <tr style=\"text-align: right;\">\n",
       "      <th></th>\n",
       "      <th>Damaged Item</th>\n",
       "      <th>Item Not Avaiable</th>\n",
       "      <th>Item Not In Stock</th>\n",
       "      <th>Product Care Plan</th>\n",
       "      <th>Claim Amount</th>\n",
       "      <th>Registered Online</th>\n",
       "      <th>Age Group</th>\n",
       "      <th>Marital Status</th>\n",
       "      <th>Owns a Vehicle</th>\n",
       "      <th>Accomodation Type</th>\n",
       "      <th>Height (cms)</th>\n",
       "    </tr>\n",
       "  </thead>\n",
       "  <tbody>\n",
       "    <tr>\n",
       "      <th>0</th>\n",
       "      <td>1</td>\n",
       "      <td>0</td>\n",
       "      <td>1</td>\n",
       "      <td>0</td>\n",
       "      <td>89</td>\n",
       "      <td>1</td>\n",
       "      <td>29</td>\n",
       "      <td>In-Relationship</td>\n",
       "      <td>1</td>\n",
       "      <td>Owns a house</td>\n",
       "      <td>155</td>\n",
       "    </tr>\n",
       "    <tr>\n",
       "      <th>1</th>\n",
       "      <td>0</td>\n",
       "      <td>0</td>\n",
       "      <td>1</td>\n",
       "      <td>1</td>\n",
       "      <td>290</td>\n",
       "      <td>0</td>\n",
       "      <td>33</td>\n",
       "      <td>Married</td>\n",
       "      <td>1</td>\n",
       "      <td>Staying with Family</td>\n",
       "      <td>178</td>\n",
       "    </tr>\n",
       "    <tr>\n",
       "      <th>2</th>\n",
       "      <td>1</td>\n",
       "      <td>0</td>\n",
       "      <td>0</td>\n",
       "      <td>1</td>\n",
       "      <td>67</td>\n",
       "      <td>0</td>\n",
       "      <td>39</td>\n",
       "      <td>Married</td>\n",
       "      <td>1</td>\n",
       "      <td>Staying with Family</td>\n",
       "      <td>156</td>\n",
       "    </tr>\n",
       "    <tr>\n",
       "      <th>3</th>\n",
       "      <td>0</td>\n",
       "      <td>0</td>\n",
       "      <td>1</td>\n",
       "      <td>0</td>\n",
       "      <td>350</td>\n",
       "      <td>0</td>\n",
       "      <td>49</td>\n",
       "      <td>In-Relationship</td>\n",
       "      <td>1</td>\n",
       "      <td>Rented</td>\n",
       "      <td>187</td>\n",
       "    </tr>\n",
       "    <tr>\n",
       "      <th>4</th>\n",
       "      <td>1</td>\n",
       "      <td>0</td>\n",
       "      <td>0</td>\n",
       "      <td>1</td>\n",
       "      <td>297</td>\n",
       "      <td>0</td>\n",
       "      <td>37</td>\n",
       "      <td>In-Relationship</td>\n",
       "      <td>1</td>\n",
       "      <td>Staying with Family</td>\n",
       "      <td>184</td>\n",
       "    </tr>\n",
       "  </tbody>\n",
       "</table>\n",
       "</div>"
      ],
      "text/plain": [
       "   Damaged Item  Item Not Avaiable  Item Not In Stock  Product Care Plan  \\\n",
       "0             1                  0                  1                  0   \n",
       "1             0                  0                  1                  1   \n",
       "2             1                  0                  0                  1   \n",
       "3             0                  0                  1                  0   \n",
       "4             1                  0                  0                  1   \n",
       "\n",
       "   Claim Amount  Registered Online  Age Group   Marital Status  \\\n",
       "0            89                  1         29  In-Relationship   \n",
       "1           290                  0         33          Married   \n",
       "2            67                  0         39          Married   \n",
       "3           350                  0         49  In-Relationship   \n",
       "4           297                  0         37  In-Relationship   \n",
       "\n",
       "   Owns a Vehicle    Accomodation Type  Height (cms)  \n",
       "0               1         Owns a house           155  \n",
       "1               1  Staying with Family           178  \n",
       "2               1  Staying with Family           156  \n",
       "3               1               Rented           187  \n",
       "4               1  Staying with Family           184  "
      ]
     },
     "execution_count": 68,
     "metadata": {},
     "output_type": "execute_result"
    }
   ],
   "source": [
    "features_raw=data.drop(['Fraud Instance'],axis=1)\n",
    "label=data['Fraud Instance']\n",
    "features_raw.head()"
   ]
  },
  {
   "cell_type": "markdown",
   "metadata": {},
   "source": [
    "## Normalize data"
   ]
  },
  {
   "cell_type": "code",
   "execution_count": 69,
   "metadata": {
    "collapsed": false
   },
   "outputs": [
    {
     "data": {
      "text/html": [
       "<div>\n",
       "<table border=\"1\" class=\"dataframe\">\n",
       "  <thead>\n",
       "    <tr style=\"text-align: right;\">\n",
       "      <th></th>\n",
       "      <th>Damaged Item</th>\n",
       "      <th>Item Not Avaiable</th>\n",
       "      <th>Item Not In Stock</th>\n",
       "      <th>Product Care Plan</th>\n",
       "      <th>Claim Amount</th>\n",
       "      <th>Registered Online</th>\n",
       "      <th>Age Group</th>\n",
       "      <th>Marital Status</th>\n",
       "      <th>Owns a Vehicle</th>\n",
       "      <th>Accomodation Type</th>\n",
       "      <th>Height (cms)</th>\n",
       "    </tr>\n",
       "  </thead>\n",
       "  <tbody>\n",
       "    <tr>\n",
       "      <th>0</th>\n",
       "      <td>1</td>\n",
       "      <td>0</td>\n",
       "      <td>1</td>\n",
       "      <td>0</td>\n",
       "      <td>0.16875</td>\n",
       "      <td>1</td>\n",
       "      <td>0.297297</td>\n",
       "      <td>In-Relationship</td>\n",
       "      <td>1</td>\n",
       "      <td>Owns a house</td>\n",
       "      <td>0.125</td>\n",
       "    </tr>\n",
       "  </tbody>\n",
       "</table>\n",
       "</div>"
      ],
      "text/plain": [
       "   Damaged Item  Item Not Avaiable  Item Not In Stock  Product Care Plan  \\\n",
       "0             1                  0                  1                  0   \n",
       "\n",
       "   Claim Amount  Registered Online  Age Group   Marital Status  \\\n",
       "0       0.16875                  1   0.297297  In-Relationship   \n",
       "\n",
       "   Owns a Vehicle Accomodation Type  Height (cms)  \n",
       "0               1      Owns a house         0.125  "
      ]
     },
     "metadata": {},
     "output_type": "display_data"
    }
   ],
   "source": [
    "from sklearn.preprocessing import MinMaxScaler\n",
    "\n",
    "# Initialize a scaler, then apply it to the features\n",
    "scaler = MinMaxScaler()\n",
    "numerical = ['Claim Amount','Age Group','Height (cms)']\n",
    "features_raw[numerical] = scaler.fit_transform(data[numerical])\n",
    "\n",
    "display(features_raw.head(n = 1))"
   ]
  },
  {
   "cell_type": "markdown",
   "metadata": {},
   "source": [
    "## check skew"
   ]
  },
  {
   "cell_type": "code",
   "execution_count": 71,
   "metadata": {
    "collapsed": false
   },
   "outputs": [
    {
     "data": {
      "image/png": "[encoded data removed]",
      "text/plain": [
       "<matplotlib.figure.Figure at 0x116b8c898>"
      ]
     },
     "metadata": {},
     "output_type": "display_data"
    }
   ],
   "source": [
    "plt.hist(features_raw['Claim Amount'],bins=20)\n",
    "plt.show()"
   ]
  },
  {
   "cell_type": "code",
   "execution_count": 74,
   "metadata": {
    "collapsed": false
   },
   "outputs": [
    {
     "data": {
      "image/png": "[encoded data removed]",
      "text/plain": [
       "<matplotlib.figure.Figure at 0x11642f470>"
      ]
     },
     "metadata": {},
     "output_type": "display_data"
    }
   ],
   "source": [
    "plt.hist(features_raw['Age Group'])\n",
    "plt.show()"
   ]
  },
  {
   "cell_type": "code",
   "execution_count": 75,
   "metadata": {
    "collapsed": false
   },
   "outputs": [
    {
     "data": {
      "image/png": "[encoded data removed]",
      "text/plain": [
       "<matplotlib.figure.Figure at 0x1160e1a90>"
      ]
     },
     "metadata": {},
     "output_type": "display_data"
    }
   ],
   "source": [
    "plt.hist(features_raw['Height (cms)'])\n",
    "plt.show()"
   ]
  },
  {
   "cell_type": "markdown",
   "metadata": {},
   "source": [
    "Things are either binary or uniformly distributed. No skew, no need to correct for it.\n",
    "\n",
    "## one hot encode"
   ]
  },
  {
   "cell_type": "code",
   "execution_count": 77,
   "metadata": {
    "collapsed": false
   },
   "outputs": [
    {
     "name": "stdout",
     "output_type": "stream",
     "text": [
      "15 total features after one-hot encoding.\n",
      "['Damaged Item', 'Item Not Avaiable', 'Item Not In Stock', 'Product Care Plan', 'Claim Amount', 'Registered Online', 'Age Group', 'Owns a Vehicle', 'Height (cms)', 'Marital Status_In-Relationship', 'Marital Status_Married', 'Marital Status_Unmarried,', 'Accomodation Type_Owns a house', 'Accomodation Type_Rented', 'Accomodation Type_Staying with Family']\n"
     ]
    }
   ],
   "source": [
    "features = pd.get_dummies(features_raw)\n",
    "\n",
    "# TODO: Encode the 'income_raw' data to numerical values\n",
    "#print(income.head(n=10))\n",
    "# Print the number of features after one-hot encoding\n",
    "encoded = list(features.columns)\n",
    "print (\"{} total features after one-hot encoding.\".format(len(encoded)))\n",
    "print (encoded)"
   ]
  },
  {
   "cell_type": "markdown",
   "metadata": {},
   "source": [
    "## Split into test/train"
   ]
  },
  {
   "cell_type": "code",
   "execution_count": 79,
   "metadata": {
    "collapsed": false
   },
   "outputs": [
    {
     "name": "stdout",
     "output_type": "stream",
     "text": [
      "Training set has 3479 samples.\n",
      "Testing set has 870 samples.\n"
     ]
    }
   ],
   "source": [
    "from sklearn.model_selection import train_test_split #sklearn 0.18.1 and up\n",
    "# Split the 'features' and 'income' data into training and testing sets\n",
    "X_train, X_test, y_train, y_test = train_test_split(features,label, test_size = 0.2, random_state = 0)\n",
    "\n",
    "# Show the results of the split\n",
    "print (\"Training set has {} samples.\".format(X_train.shape[0]))\n",
    "print (\"Testing set has {} samples.\".format(X_test.shape[0]))"
   ]
  },
  {
   "cell_type": "markdown",
   "metadata": {},
   "source": [
    "## train a decision tree classifier"
   ]
  },
  {
   "cell_type": "code",
   "execution_count": 82,
   "metadata": {
    "collapsed": false
   },
   "outputs": [],
   "source": [
    "from sklearn.tree import DecisionTreeClassifier\n",
    "from sklearn.metrics import f1_score, accuracy_score\n",
    "clf = DecisionTreeClassifier(random_state=2)\n",
    "clf.fit(X_train,y_train)\n",
    "\n",
    "predictions_test = clf.predict(X_test)\n",
    "predictions_train = clf.predict(X_train[:300])\n",
    "\n",
    "results = {}\n",
    "\n",
    "results['acc_train'] = accuracy_score(y_train[:300],predictions_train)\n",
    "\n",
    "# TODO: Compute accuracy on test set\n",
    "results['acc_test'] = accuracy_score(y_test,predictions_test)\n",
    "\n",
    "# TODO: Compute F-score on the the first 300 training samples\n",
    "results['f_train'] = f1_score(y_train[:300],predictions_train)\n",
    "\n",
    "# TODO: Compute F-score on the test set\n",
    "results['f_test'] = f1_score(y_test,predictions_test)"
   ]
  },
  {
   "cell_type": "code",
   "execution_count": 83,
   "metadata": {
    "collapsed": false
   },
   "outputs": [
    {
     "name": "stdout",
     "output_type": "stream",
     "text": [
      "{'acc_train': 1.0, 'acc_test': 1.0, 'f_train': 1.0, 'f_test': 1.0}\n"
     ]
    }
   ],
   "source": [
    "print(results)"
   ]
  },
  {
   "cell_type": "markdown",
   "metadata": {},
   "source": [
    "## look at which features are important to the classification"
   ]
  },
  {
   "cell_type": "code",
   "execution_count": 90,
   "metadata": {
    "collapsed": false
   },
   "outputs": [
    {
     "data": {
      "image/png": "[encoded data removed]",
      "text/plain": [
       "<matplotlib.figure.Figure at 0x116c548d0>"
      ]
     },
     "metadata": {},
     "output_type": "display_data"
    }
   ],
   "source": [
    "y_pos=np.arange(len(clf.feature_importances_))\n",
    "\n",
    "plt.barh(y_pos,clf.feature_importances_)\n",
    "plt.yticks(y_pos,features.columns)\n",
    "plt.show()"
   ]
  },
  {
   "cell_type": "code",
   "execution_count": 96,
   "metadata": {
    "collapsed": false
   },
   "outputs": [
    {
     "data": {
      "text/plain": [
       "{'class_weight': None,\n",
       " 'criterion': 'gini',\n",
       " 'max_depth': None,\n",
       " 'max_features': None,\n",
       " 'max_leaf_nodes': None,\n",
       " 'min_impurity_split': 1e-07,\n",
       " 'min_samples_leaf': 1,\n",
       " 'min_samples_split': 2,\n",
       " 'min_weight_fraction_leaf': 0.0,\n",
       " 'presort': False,\n",
       " 'random_state': 2,\n",
       " 'splitter': 'best'}"
      ]
     },
     "execution_count": 96,
     "metadata": {},
     "output_type": "execute_result"
    }
   ],
   "source": [
    "clf.get_params()"
   ]
  },
  {
   "cell_type": "markdown",
   "metadata": {},
   "source": [
    "## create a visual representation of the tree"
   ]
  },
  {
   "cell_type": "code",
   "execution_count": 178,
   "metadata": {
    "collapsed": false
   },
   "outputs": [
    {
     "data": {
      "text/plain": [
       "True"
      ]
     },
     "execution_count": 178,
     "metadata": {},
     "output_type": "execute_result"
    }
   ],
   "source": [
    "from sklearn import tree\n",
    "import pydotplus \n",
    "dot_data = tree.export_graphviz(clf, out_file=None,feature_names=features.columns,class_names=['Not Fraud','Fraudulent']) \n",
    "graph = pydotplus.graph_from_dot_data(dot_data)\n",
    "graph.write_pdf(\"fraud_decisiontree.pdf\") "
   ]
  },
  {
   "cell_type": "code",
   "execution_count": null,
   "metadata": {
    "collapsed": false
   },
   "outputs": [],
   "source": []
  },
  {
   "cell_type": "code",
   "execution_count": null,
   "metadata": {
    "collapsed": true
   },
   "outputs": [],
   "source": []
  }
 ],
 "metadata": {
  "kernelspec": {
   "display_name": "Python 3",
   "language": "python",
   "name": "python3"
  },
  "language_info": {
   "codemirror_mode": {
    "name": "ipython",
    "version": 3
   },
   "file_extension": ".py",
   "mimetype": "text/x-python",
   "name": "python",
   "nbconvert_exporter": "python",
   "pygments_lexer": "ipython3",
   "version": "3.6.0"
  }
 },
 "nbformat": 4,
 "nbformat_minor": 2
}
